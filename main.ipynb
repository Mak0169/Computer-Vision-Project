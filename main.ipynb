{
 "cells": [
  {
   "cell_type": "code",
   "execution_count": null,
   "id": "fad86c3f",
   "metadata": {},
   "outputs": [],
   "source": [
    "import torch\n",
    "import torchvision\n",
    "from torchvision import\n",
    "import pandas as pd\n",
    "from pathlib import Path"
   ]
  },
  {
   "cell_type": "code",
   "execution_count": 5,
   "id": "0449d8af",
   "metadata": {},
   "outputs": [
    {
     "name": "stdout",
     "output_type": "stream",
     "text": [
      "        Image name  Retinopathy grade  Risk of macular edema  \\\n",
      "0  IMAGE_01367.png                  1                      0   \n",
      "1  IMAGE_01174.png                  1                      0   \n",
      "2  IMAGE_00106.jpg                  3                      1   \n",
      "3  IMAGE_00036.jpg                  3                      1   \n",
      "4  IMAGE_01922.jpg                  0                      0   \n",
      "\n",
      "                                             Caption  \n",
      "0  FUNDUS ASSESSMENT: Early diabetic retinopathy ...  \n",
      "1  RETINAL EXAMINATION: Earliest manifestation of...  \n",
      "2  OPHTHALMOSCOPIC EVALUATION: Severe diabetic re...  \n",
      "3  CLINICAL EXAMINATION: Pre-proliferative diabet...  \n",
      "4  RETINAL ASSESSMENT: Comprehensive funduscopic ...  \n"
     ]
    }
   ],
   "source": [
    "labels_df = pd.read_csv('c:/Users/makot/mrg/AI_Project/dataset/Diabetic Retinopathy/test/annotations.csv')\n",
    "train_image_folder = 'c:/Users/makot/mrg/AI_Project/dataset/Diabetic Retinopathy/train/images'\n",
    "test_image_folder = 'c:/Users/makot/mrg/AI_Project/dataset/Diabetic Retinopathy/test/images'\n",
    "\n",
    "print(labels_df.head())"
   ]
  },
  {
   "cell_type": "code",
   "execution_count": null,
   "id": "3d0e06c8",
   "metadata": {},
   "outputs": [
    {
     "name": "stdout",
     "output_type": "stream",
     "text": [
      "Using device: {device(type='cuda')}\n"
     ]
    }
   ],
   "source": [
    "device = torch.device(\"cuda\" if torch.cuda.is_available() else \"cpu\")\n",
    "print(f\"Using device:\", {device})\n",
    "\n",
    "# I need to put this commit for git to work properly."
   ]
  },
  {
   "cell_type": "code",
   "execution_count": 7,
   "id": "8a3e8416",
   "metadata": {},
   "outputs": [],
   "source": [
    "transforms = transforms.Compose([\n",
    "    transforms.Resize((224, 224)),\n",
    "    transforms.ToTensor(),\n",
    "    transforms.Normalize(mean=[0.485, 0.456, 0.406],\n",
    "                         std=[0.229, 0.224, 0.225])\n",
    "])\n"
   ]
  },
  {
   "cell_type": "code",
   "execution_count": null,
   "id": "1e369f62",
   "metadata": {},
   "outputs": [],
   "source": [
    "train_dataset = datasets.ImageFolder(root=train_image_folder, transform=transforms)"
   ]
  }
 ],
 "metadata": {
  "kernelspec": {
   "display_name": ".venv",
   "language": "python",
   "name": "python3"
  },
  "language_info": {
   "codemirror_mode": {
    "name": "ipython",
    "version": 3
   },
   "file_extension": ".py",
   "mimetype": "text/x-python",
   "name": "python",
   "nbconvert_exporter": "python",
   "pygments_lexer": "ipython3",
   "version": "3.12.5"
  }
 },
 "nbformat": 4,
 "nbformat_minor": 5
}
