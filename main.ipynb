{
 "cells": [
  {
   "cell_type": "code",
   "execution_count": null,
   "id": "fad86c3f",
   "metadata": {},
   "outputs": [],
   "source": [
    "import torch\n",
    "from torchvision import transforms, datasets\n",
    "from torch.utils.data import DataLoader\n",
    "import matplotlib.pyplot as plt\n",
    "import numpy as np\n",
    "import pandas as pd\n",
    "from dotenv import load_dotenv\n",
    "import os\n",
    "from pathlib import Path\n",
    "from enum import Enum\n",
    "import shutil"
   ]
  },
  {
   "cell_type": "code",
   "execution_count": null,
   "id": "0449d8af",
   "metadata": {},
   "outputs": [
    {
     "name": "stdout",
     "output_type": "stream",
     "text": [
      "        Image name  Retinopathy grade  Risk of macular edema  \\\n",
      "0  IMAGE_01418.png                  2                      0   \n",
      "1  IMAGE_01285.png                  0                      0   \n",
      "2  IMAGE_02211.jpg                  0                      0   \n",
      "3  IMAGE_00525.png                  1                      0   \n",
      "4  IMAGE_01239.png                  1                      0   \n",
      "\n",
      "                                             Caption  \n",
      "0  CLINICAL SURVEY: Moderate diabetic retinopathy...  \n",
      "1  CLINICAL FUNDUSCOPY: Comprehensive retinal eva...  \n",
      "2  FUNDUS EVALUATION: Normal ophthalmoscopic exam...  \n",
      "3  FUNDUS ASSESSMENT: Early diabetic retinopathy ...  \n",
      "4  FUNDUS ASSESSMENT: Early diabetic retinopathy ...  \n"
     ]
    }
   ],
   "source": [
    "load_dotenv()\n",
    "labels_df = pd.read_csv(\"CSV_FILE\")\n",
    "train_image_folder = Path(\"TRAIN_IMAGE_FOLDER\")\n",
    "test_image_folder = Path(\"TEST_IMAGE_FOLDER\")\n",
    "\n",
    "print(labels_df.head())"
   ]
  },
  {
   "cell_type": "code",
   "execution_count": 29,
   "id": "3d0e06c8",
   "metadata": {},
   "outputs": [
    {
     "name": "stdout",
     "output_type": "stream",
     "text": [
      "Using device: {device(type='cuda')}\n"
     ]
    }
   ],
   "source": [
    "device = torch.device(\"cuda\" if torch.cuda.is_available() else \"cpu\")\n",
    "print(f\"Using device:\", {device})"
   ]
  },
  {
   "cell_type": "code",
   "execution_count": 30,
   "id": "8a3e8416",
   "metadata": {},
   "outputs": [],
   "source": [
    "transforms = transforms.Compose([\n",
    "    transforms.Resize((224, 224)),\n",
    "    transforms.ToTensor(),\n",
    "    transforms.Normalize(mean=[0.485, 0.456, 0.406],\n",
    "                         std=[0.229, 0.224, 0.225])\n",
    "])\n"
   ]
  },
  {
   "cell_type": "code",
   "execution_count": 31,
   "id": "1e369f62",
   "metadata": {},
   "outputs": [],
   "source": [
    "train_dataset = datasets.ImageFolder(root=train_image_folder, transform=transforms)\n",
    "val_dataset = datasets.ImageFolder(root=test_image_folder, transform=transforms)"
   ]
  },
  {
   "cell_type": "code",
   "execution_count": 32,
   "id": "84fe05c8",
   "metadata": {},
   "outputs": [],
   "source": [
    "train_loader = DataLoader(\n",
    "    train_dataset, \n",
    "    batch_size=32, \n",
    "    shuffle=True, \n",
    "    num_workers=4,\n",
    "    pin_memory=True)\n",
    "val_loader = DataLoader(\n",
    "    val_dataset,\n",
    "    batch_size=32,\n",
    "    shuffle=False,\n",
    "    num_workers=4,\n",
    "    pin_memory=True)"
   ]
  },
  {
   "cell_type": "code",
   "execution_count": 33,
   "id": "4eb1f531",
   "metadata": {},
   "outputs": [
    {
     "name": "stdout",
     "output_type": "stream",
     "text": [
      "['images']\n"
     ]
    }
   ],
   "source": [
    "class_names = train_dataset.classes\n",
    "label_enum = Enum('ClassEnum', {name: idx for idx, name in enumerate(class_names)})\n",
    "print(class_names)"
   ]
  }
 ],
 "metadata": {
  "kernelspec": {
   "display_name": ".venv",
   "language": "python",
   "name": "python3"
  },
  "language_info": {
   "codemirror_mode": {
    "name": "ipython",
    "version": 3
   },
   "file_extension": ".py",
   "mimetype": "text/x-python",
   "name": "python",
   "nbconvert_exporter": "python",
   "pygments_lexer": "ipython3",
   "version": "3.12.5"
  }
 },
 "nbformat": 4,
 "nbformat_minor": 5
}
